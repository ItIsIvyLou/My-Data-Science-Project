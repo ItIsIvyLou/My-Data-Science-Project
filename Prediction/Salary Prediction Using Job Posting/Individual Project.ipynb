{
 "cells": [
  {
   "cell_type": "markdown",
   "metadata": {},
   "source": [
    "Dataset URL: http://www.kaggle.com/c/job-salary-prediction\n",
    "\n",
    "Using only the Train_rev1.csv"
   ]
  },
  {
   "cell_type": "markdown",
   "metadata": {},
   "source": [
    "## Libraries"
   ]
  },
  {
   "cell_type": "code",
   "execution_count": 2,
   "metadata": {},
   "outputs": [],
   "source": [
    "import pandas as pd\n",
    "import numpy as np\n",
    "import seaborn as sns\n",
    "import matplotlib.pyplot as plt\n",
    "from sklearn.model_selection import train_test_split, StratifiedShuffleSplit\n",
    "import nltk\n",
    "from sklearn.feature_extraction.text import TfidfVectorizer, CountVectorizer\n",
    "from sklearn.pipeline import Pipeline\n",
    "from sklearn.naive_bayes import MultinomialNB\n",
    "from sklearn.metrics import confusion_matrix, accuracy_score, classification_report\n",
    "from nltk.tokenize import RegexpTokenizer\n",
    "from nltk.stem import WordNetLemmatizer,PorterStemmer\n",
    "from nltk.corpus import stopwords\n",
    "import re\n",
    "from sklearn.model_selection import GridSearchCV"
   ]
  },
  {
   "cell_type": "code",
   "execution_count": 4,
   "metadata": {},
   "outputs": [],
   "source": [
    "train_data = pd.read_csv(\"Train_rev1.csv\")\n",
    "# selected_data = train_data.sample(n=2500, random_state=42) # randomly select 2500 data points\n",
    "\n",
    "## Save to new data file to prevent using the big data every time\n",
    "# selected_data.to_csv(\"selected_salary_data.csv\"bb, index=False) "
   ]
  },
  {
   "cell_type": "code",
   "execution_count": 7,
   "metadata": {},
   "outputs": [
    {
     "name": "stdout",
     "output_type": "stream",
     "text": [
      "<class 'pandas.core.frame.DataFrame'>\n",
      "RangeIndex: 244768 entries, 0 to 244767\n",
      "Data columns (total 12 columns):\n",
      " #   Column              Non-Null Count   Dtype \n",
      "---  ------              --------------   ----- \n",
      " 0   Id                  244768 non-null  int64 \n",
      " 1   Title               244767 non-null  object\n",
      " 2   FullDescription     244768 non-null  object\n",
      " 3   LocationRaw         244768 non-null  object\n",
      " 4   LocationNormalized  244768 non-null  object\n",
      " 5   ContractType        65442 non-null   object\n",
      " 6   ContractTime        180863 non-null  object\n",
      " 7   Company             212338 non-null  object\n",
      " 8   Category            244768 non-null  object\n",
      " 9   SalaryRaw           244768 non-null  object\n",
      " 10  SalaryNormalized    244768 non-null  int64 \n",
      " 11  SourceName          244767 non-null  object\n",
      "dtypes: int64(2), object(10)\n",
      "memory usage: 22.4+ MB\n"
     ]
    }
   ],
   "source": [
    "data = train_data.copy()\n",
    "data.info()"
   ]
  },
  {
   "cell_type": "code",
   "execution_count": 2,
   "metadata": {},
   "outputs": [
    {
     "name": "stdout",
     "output_type": "stream",
     "text": [
      "<class 'pandas.core.frame.DataFrame'>\n",
      "RangeIndex: 2500 entries, 0 to 2499\n",
      "Data columns (total 12 columns):\n",
      " #   Column              Non-Null Count  Dtype \n",
      "---  ------              --------------  ----- \n",
      " 0   Id                  2500 non-null   int64 \n",
      " 1   Title               2500 non-null   object\n",
      " 2   FullDescription     2500 non-null   object\n",
      " 3   LocationRaw         2500 non-null   object\n",
      " 4   LocationNormalized  2500 non-null   object\n",
      " 5   ContractType        685 non-null    object\n",
      " 6   ContractTime        1859 non-null   object\n",
      " 7   Company             2157 non-null   object\n",
      " 8   Category            2500 non-null   object\n",
      " 9   SalaryRaw           2500 non-null   object\n",
      " 10  SalaryNormalized    2500 non-null   int64 \n",
      " 11  SourceName          2500 non-null   object\n",
      "dtypes: int64(2), object(10)\n",
      "memory usage: 234.5+ KB\n"
     ]
    }
   ],
   "source": [
    "data = pd.read_csv(\"selected_salary_data.csv\")\n",
    "data.info()"
   ]
  },
  {
   "cell_type": "code",
   "execution_count": 13,
   "metadata": {},
   "outputs": [
    {
     "data": {
      "text/html": [
       "<div>\n",
       "<style scoped>\n",
       "    .dataframe tbody tr th:only-of-type {\n",
       "        vertical-align: middle;\n",
       "    }\n",
       "\n",
       "    .dataframe tbody tr th {\n",
       "        vertical-align: top;\n",
       "    }\n",
       "\n",
       "    .dataframe thead th {\n",
       "        text-align: right;\n",
       "    }\n",
       "</style>\n",
       "<table border=\"1\" class=\"dataframe\">\n",
       "  <thead>\n",
       "    <tr style=\"text-align: right;\">\n",
       "      <th></th>\n",
       "      <th>Id</th>\n",
       "      <th>Title</th>\n",
       "      <th>FullDescription</th>\n",
       "      <th>LocationRaw</th>\n",
       "      <th>LocationNormalized</th>\n",
       "      <th>ContractType</th>\n",
       "      <th>ContractTime</th>\n",
       "      <th>Company</th>\n",
       "      <th>Category</th>\n",
       "      <th>SalaryRaw</th>\n",
       "      <th>SalaryNormalized</th>\n",
       "      <th>SourceName</th>\n",
       "    </tr>\n",
       "  </thead>\n",
       "  <tbody>\n",
       "    <tr>\n",
       "      <th>0</th>\n",
       "      <td>12612628</td>\n",
       "      <td>Engineering Systems Analyst</td>\n",
       "      <td>Engineering Systems Analyst Dorking Surrey Sal...</td>\n",
       "      <td>Dorking, Surrey, Surrey</td>\n",
       "      <td>Dorking</td>\n",
       "      <td>NaN</td>\n",
       "      <td>permanent</td>\n",
       "      <td>Gregory Martin International</td>\n",
       "      <td>Engineering Jobs</td>\n",
       "      <td>20000 - 30000/annum 20-30K</td>\n",
       "      <td>25000</td>\n",
       "      <td>cv-library.co.uk</td>\n",
       "    </tr>\n",
       "    <tr>\n",
       "      <th>1</th>\n",
       "      <td>12612830</td>\n",
       "      <td>Stress Engineer Glasgow</td>\n",
       "      <td>Stress Engineer Glasgow Salary **** to **** We...</td>\n",
       "      <td>Glasgow, Scotland, Scotland</td>\n",
       "      <td>Glasgow</td>\n",
       "      <td>NaN</td>\n",
       "      <td>permanent</td>\n",
       "      <td>Gregory Martin International</td>\n",
       "      <td>Engineering Jobs</td>\n",
       "      <td>25000 - 35000/annum 25-35K</td>\n",
       "      <td>30000</td>\n",
       "      <td>cv-library.co.uk</td>\n",
       "    </tr>\n",
       "    <tr>\n",
       "      <th>2</th>\n",
       "      <td>12612844</td>\n",
       "      <td>Modelling and simulation analyst</td>\n",
       "      <td>Mathematical Modeller / Simulation Analyst / O...</td>\n",
       "      <td>Hampshire, South East, South East</td>\n",
       "      <td>Hampshire</td>\n",
       "      <td>NaN</td>\n",
       "      <td>permanent</td>\n",
       "      <td>Gregory Martin International</td>\n",
       "      <td>Engineering Jobs</td>\n",
       "      <td>20000 - 40000/annum 20-40K</td>\n",
       "      <td>30000</td>\n",
       "      <td>cv-library.co.uk</td>\n",
       "    </tr>\n",
       "    <tr>\n",
       "      <th>3</th>\n",
       "      <td>12613049</td>\n",
       "      <td>Engineering Systems Analyst / Mathematical Mod...</td>\n",
       "      <td>Engineering Systems Analyst / Mathematical Mod...</td>\n",
       "      <td>Surrey, South East, South East</td>\n",
       "      <td>Surrey</td>\n",
       "      <td>NaN</td>\n",
       "      <td>permanent</td>\n",
       "      <td>Gregory Martin International</td>\n",
       "      <td>Engineering Jobs</td>\n",
       "      <td>25000 - 30000/annum 25K-30K negotiable</td>\n",
       "      <td>27500</td>\n",
       "      <td>cv-library.co.uk</td>\n",
       "    </tr>\n",
       "    <tr>\n",
       "      <th>4</th>\n",
       "      <td>12613647</td>\n",
       "      <td>Pioneer, Miser Engineering Systems Analyst</td>\n",
       "      <td>Pioneer, Miser  Engineering Systems Analyst Do...</td>\n",
       "      <td>Surrey, South East, South East</td>\n",
       "      <td>Surrey</td>\n",
       "      <td>NaN</td>\n",
       "      <td>permanent</td>\n",
       "      <td>Gregory Martin International</td>\n",
       "      <td>Engineering Jobs</td>\n",
       "      <td>20000 - 30000/annum 20-30K</td>\n",
       "      <td>25000</td>\n",
       "      <td>cv-library.co.uk</td>\n",
       "    </tr>\n",
       "  </tbody>\n",
       "</table>\n",
       "</div>"
      ],
      "text/plain": [
       "         Id                                              Title  \\\n",
       "0  12612628                        Engineering Systems Analyst   \n",
       "1  12612830                            Stress Engineer Glasgow   \n",
       "2  12612844                   Modelling and simulation analyst   \n",
       "3  12613049  Engineering Systems Analyst / Mathematical Mod...   \n",
       "4  12613647         Pioneer, Miser Engineering Systems Analyst   \n",
       "\n",
       "                                     FullDescription  \\\n",
       "0  Engineering Systems Analyst Dorking Surrey Sal...   \n",
       "1  Stress Engineer Glasgow Salary **** to **** We...   \n",
       "2  Mathematical Modeller / Simulation Analyst / O...   \n",
       "3  Engineering Systems Analyst / Mathematical Mod...   \n",
       "4  Pioneer, Miser  Engineering Systems Analyst Do...   \n",
       "\n",
       "                         LocationRaw LocationNormalized ContractType  \\\n",
       "0            Dorking, Surrey, Surrey            Dorking          NaN   \n",
       "1        Glasgow, Scotland, Scotland            Glasgow          NaN   \n",
       "2  Hampshire, South East, South East          Hampshire          NaN   \n",
       "3     Surrey, South East, South East             Surrey          NaN   \n",
       "4     Surrey, South East, South East             Surrey          NaN   \n",
       "\n",
       "  ContractTime                       Company          Category  \\\n",
       "0    permanent  Gregory Martin International  Engineering Jobs   \n",
       "1    permanent  Gregory Martin International  Engineering Jobs   \n",
       "2    permanent  Gregory Martin International  Engineering Jobs   \n",
       "3    permanent  Gregory Martin International  Engineering Jobs   \n",
       "4    permanent  Gregory Martin International  Engineering Jobs   \n",
       "\n",
       "                                SalaryRaw  SalaryNormalized        SourceName  \n",
       "0              20000 - 30000/annum 20-30K             25000  cv-library.co.uk  \n",
       "1              25000 - 35000/annum 25-35K             30000  cv-library.co.uk  \n",
       "2              20000 - 40000/annum 20-40K             30000  cv-library.co.uk  \n",
       "3  25000 - 30000/annum 25K-30K negotiable             27500  cv-library.co.uk  \n",
       "4              20000 - 30000/annum 20-30K             25000  cv-library.co.uk  "
      ]
     },
     "execution_count": 13,
     "metadata": {},
     "output_type": "execute_result"
    }
   ],
   "source": [
    "data.head(5)"
   ]
  },
  {
   "cell_type": "code",
   "execution_count": 9,
   "metadata": {},
   "outputs": [
    {
     "data": {
      "text/html": [
       "<div>\n",
       "<style scoped>\n",
       "    .dataframe tbody tr th:only-of-type {\n",
       "        vertical-align: middle;\n",
       "    }\n",
       "\n",
       "    .dataframe tbody tr th {\n",
       "        vertical-align: top;\n",
       "    }\n",
       "\n",
       "    .dataframe thead th {\n",
       "        text-align: right;\n",
       "    }\n",
       "</style>\n",
       "<table border=\"1\" class=\"dataframe\">\n",
       "  <thead>\n",
       "    <tr style=\"text-align: right;\">\n",
       "      <th></th>\n",
       "      <th>Id</th>\n",
       "      <th>SalaryNormalized</th>\n",
       "    </tr>\n",
       "  </thead>\n",
       "  <tbody>\n",
       "    <tr>\n",
       "      <th>count</th>\n",
       "      <td>2.447680e+05</td>\n",
       "      <td>244768.000000</td>\n",
       "    </tr>\n",
       "    <tr>\n",
       "      <th>mean</th>\n",
       "      <td>6.970142e+07</td>\n",
       "      <td>34122.577576</td>\n",
       "    </tr>\n",
       "    <tr>\n",
       "      <th>std</th>\n",
       "      <td>3.129813e+06</td>\n",
       "      <td>17640.543124</td>\n",
       "    </tr>\n",
       "    <tr>\n",
       "      <th>min</th>\n",
       "      <td>1.261263e+07</td>\n",
       "      <td>5000.000000</td>\n",
       "    </tr>\n",
       "    <tr>\n",
       "      <th>25%</th>\n",
       "      <td>6.869550e+07</td>\n",
       "      <td>21500.000000</td>\n",
       "    </tr>\n",
       "    <tr>\n",
       "      <th>50%</th>\n",
       "      <td>6.993700e+07</td>\n",
       "      <td>30000.000000</td>\n",
       "    </tr>\n",
       "    <tr>\n",
       "      <th>75%</th>\n",
       "      <td>7.162606e+07</td>\n",
       "      <td>42500.000000</td>\n",
       "    </tr>\n",
       "    <tr>\n",
       "      <th>max</th>\n",
       "      <td>7.270524e+07</td>\n",
       "      <td>200000.000000</td>\n",
       "    </tr>\n",
       "  </tbody>\n",
       "</table>\n",
       "</div>"
      ],
      "text/plain": [
       "                 Id  SalaryNormalized\n",
       "count  2.447680e+05     244768.000000\n",
       "mean   6.970142e+07      34122.577576\n",
       "std    3.129813e+06      17640.543124\n",
       "min    1.261263e+07       5000.000000\n",
       "25%    6.869550e+07      21500.000000\n",
       "50%    6.993700e+07      30000.000000\n",
       "75%    7.162606e+07      42500.000000\n",
       "max    7.270524e+07     200000.000000"
      ]
     },
     "execution_count": 9,
     "metadata": {},
     "output_type": "execute_result"
    }
   ],
   "source": [
    "data.describe()"
   ]
  },
  {
   "cell_type": "markdown",
   "metadata": {},
   "source": [
    "## EDA & Preprocess"
   ]
  },
  {
   "cell_type": "markdown",
   "metadata": {},
   "source": [
    "### Categorical Variables"
   ]
  },
  {
   "cell_type": "code",
   "execution_count": 10,
   "metadata": {},
   "outputs": [
    {
     "name": "stdout",
     "output_type": "stream",
     "text": [
      "Number of Unique Location: 2732 , Location Category (Top 5):\n",
      "LocationNormalized\n",
      "UK                   41093\n",
      "London               30522\n",
      "South East London    11713\n",
      "The City              6678\n",
      "Manchester            3516\n",
      "Name: count, dtype: int64\n",
      "-----------------------\n",
      "Contract Type Category:\n",
      "ContractType\n",
      "full_time    57538\n",
      "part_time     7904\n",
      "Name: count, dtype: int64\n",
      "-----------------------\n",
      "Contract Time Category:\n",
      "ContractTime\n",
      "permanent    151521\n",
      "contract      29342\n",
      "Name: count, dtype: int64\n",
      "-----------------------\n",
      "Number of Unique Source: 167 , Source Category (Top 5):\n",
      "SourceName\n",
      "totaljobs.com       48149\n",
      "cv-library.co.uk    34279\n",
      "Jobcentre Plus      17929\n",
      "jobsite.co.uk       12225\n",
      "cwjobs.co.uk         7011\n",
      "Name: count, dtype: int64\n"
     ]
    }
   ],
   "source": [
    "unique_location = data['LocationNormalized'].nunique()\n",
    "unique_source = data['SourceName'].nunique()\n",
    "\n",
    "location = data['LocationNormalized'].value_counts()\n",
    "contract_type = data['ContractType'].value_counts()\n",
    "contract_time = data['ContractTime'].value_counts()\n",
    "source = data['SourceName'].value_counts()\n",
    "\n",
    "print('Number of Unique Location:', unique_location, ', Location Category (Top 5):')\n",
    "print(location.head(5))\n",
    "print('-----------------------')\n",
    "print('Contract Type Category:')\n",
    "print(contract_type)\n",
    "print('-----------------------')\n",
    "print('Contract Time Category:')\n",
    "print(contract_time)\n",
    "print('-----------------------')\n",
    "print('Number of Unique Source:', unique_source, ', Source Category (Top 5):')\n",
    "print(source.head(5))"
   ]
  },
  {
   "cell_type": "markdown",
   "metadata": {},
   "source": [
    "### Missing Values"
   ]
  },
  {
   "cell_type": "code",
   "execution_count": 14,
   "metadata": {},
   "outputs": [
    {
     "name": "stdout",
     "output_type": "stream",
     "text": [
      "Missing values:\n",
      "Id                         0\n",
      "Title                      1\n",
      "FullDescription            0\n",
      "LocationRaw                0\n",
      "LocationNormalized         0\n",
      "ContractType          179326\n",
      "ContractTime           63905\n",
      "Company                32430\n",
      "Category                   0\n",
      "SalaryRaw                  0\n",
      "SalaryNormalized           0\n",
      "SourceName                 1\n",
      "dtype: int64\n"
     ]
    }
   ],
   "source": [
    "missing_value = data.isna().sum()\n",
    "print('Missing values:')\n",
    "print(missing_value)"
   ]
  },
  {
   "cell_type": "code",
   "execution_count": 15,
   "metadata": {},
   "outputs": [
    {
     "name": "stdout",
     "output_type": "stream",
     "text": [
      "Missing values:\n",
      "Id                    0\n",
      "Title                 0\n",
      "FullDescription       0\n",
      "LocationRaw           0\n",
      "LocationNormalized    0\n",
      "ContractType          0\n",
      "ContractTime          0\n",
      "Company               0\n",
      "Category              0\n",
      "SalaryRaw             0\n",
      "SalaryNormalized      0\n",
      "SourceName            0\n",
      "dtype: int64\n"
     ]
    }
   ],
   "source": [
    "data.fillna('', inplace=True)\n",
    "missing_value = data.isna().sum()\n",
    "print('Missing values:')\n",
    "print(missing_value)"
   ]
  },
  {
   "cell_type": "code",
   "execution_count": 16,
   "metadata": {},
   "outputs": [
    {
     "data": {
      "image/png": "[encoded data removed]",
      "text/plain": [
       "<Figure size 800x300 with 1 Axes>"
      ]
     },
     "metadata": {},
     "output_type": "display_data"
    }
   ],
   "source": [
    "Q1 = data['SalaryNormalized'].quantile(0.25)\n",
    "Q2 = data['SalaryNormalized'].quantile(0.5)\n",
    "Q3 = data['SalaryNormalized'].quantile(0.75)\n",
    "\n",
    "plt.figure(figsize=(8, 3))\n",
    "plt.hist(data['SalaryNormalized'], bins=30, color='darkgrey', edgecolor='black')\n",
    "plt.title('Distribution of Normalized Salary')\n",
    "plt.xlabel('Normalized Salary')\n",
    "plt.ylabel('Frequency')\n",
    "\n",
    "plt.axvline(x=Q1, color='palevioletred', linestyle='--', label='Q1: {}'.format(int(Q1)))\n",
    "plt.axvline(x=Q2, color='cornflowerblue', linestyle='--', label='Q2: {}'.format(int(Q2)))\n",
    "plt.axvline(x=Q3, color='yellowgreen', linestyle='--', label='Q3: {}'.format(int(Q3)))\n",
    "\n",
    "plt.legend()\n",
    "plt.show()"
   ]
  },
  {
   "cell_type": "markdown",
   "metadata": {},
   "source": [
    "### Identify high/low salary"
   ]
  },
  {
   "cell_type": "code",
   "execution_count": 17,
   "metadata": {},
   "outputs": [
    {
     "data": {
      "text/html": [
       "<div>\n",
       "<style scoped>\n",
       "    .dataframe tbody tr th:only-of-type {\n",
       "        vertical-align: middle;\n",
       "    }\n",
       "\n",
       "    .dataframe tbody tr th {\n",
       "        vertical-align: top;\n",
       "    }\n",
       "\n",
       "    .dataframe thead th {\n",
       "        text-align: right;\n",
       "    }\n",
       "</style>\n",
       "<table border=\"1\" class=\"dataframe\">\n",
       "  <thead>\n",
       "    <tr style=\"text-align: right;\">\n",
       "      <th></th>\n",
       "      <th>Id</th>\n",
       "      <th>Title</th>\n",
       "      <th>FullDescription</th>\n",
       "      <th>LocationRaw</th>\n",
       "      <th>LocationNormalized</th>\n",
       "      <th>ContractType</th>\n",
       "      <th>ContractTime</th>\n",
       "      <th>Company</th>\n",
       "      <th>Category</th>\n",
       "      <th>SalaryRaw</th>\n",
       "      <th>SalaryNormalized</th>\n",
       "      <th>SourceName</th>\n",
       "      <th>HighSalary</th>\n",
       "    </tr>\n",
       "  </thead>\n",
       "  <tbody>\n",
       "    <tr>\n",
       "      <th>0</th>\n",
       "      <td>12612628</td>\n",
       "      <td>Engineering Systems Analyst</td>\n",
       "      <td>Engineering Systems Analyst Dorking Surrey Sal...</td>\n",
       "      <td>Dorking, Surrey, Surrey</td>\n",
       "      <td>Dorking</td>\n",
       "      <td></td>\n",
       "      <td>permanent</td>\n",
       "      <td>Gregory Martin International</td>\n",
       "      <td>Engineering Jobs</td>\n",
       "      <td>20000 - 30000/annum 20-30K</td>\n",
       "      <td>25000</td>\n",
       "      <td>cv-library.co.uk</td>\n",
       "      <td>0</td>\n",
       "    </tr>\n",
       "    <tr>\n",
       "      <th>1</th>\n",
       "      <td>12612830</td>\n",
       "      <td>Stress Engineer Glasgow</td>\n",
       "      <td>Stress Engineer Glasgow Salary **** to **** We...</td>\n",
       "      <td>Glasgow, Scotland, Scotland</td>\n",
       "      <td>Glasgow</td>\n",
       "      <td></td>\n",
       "      <td>permanent</td>\n",
       "      <td>Gregory Martin International</td>\n",
       "      <td>Engineering Jobs</td>\n",
       "      <td>25000 - 35000/annum 25-35K</td>\n",
       "      <td>30000</td>\n",
       "      <td>cv-library.co.uk</td>\n",
       "      <td>0</td>\n",
       "    </tr>\n",
       "    <tr>\n",
       "      <th>2</th>\n",
       "      <td>12612844</td>\n",
       "      <td>Modelling and simulation analyst</td>\n",
       "      <td>Mathematical Modeller / Simulation Analyst / O...</td>\n",
       "      <td>Hampshire, South East, South East</td>\n",
       "      <td>Hampshire</td>\n",
       "      <td></td>\n",
       "      <td>permanent</td>\n",
       "      <td>Gregory Martin International</td>\n",
       "      <td>Engineering Jobs</td>\n",
       "      <td>20000 - 40000/annum 20-40K</td>\n",
       "      <td>30000</td>\n",
       "      <td>cv-library.co.uk</td>\n",
       "      <td>0</td>\n",
       "    </tr>\n",
       "  </tbody>\n",
       "</table>\n",
       "</div>"
      ],
      "text/plain": [
       "         Id                             Title  \\\n",
       "0  12612628       Engineering Systems Analyst   \n",
       "1  12612830           Stress Engineer Glasgow   \n",
       "2  12612844  Modelling and simulation analyst   \n",
       "\n",
       "                                     FullDescription  \\\n",
       "0  Engineering Systems Analyst Dorking Surrey Sal...   \n",
       "1  Stress Engineer Glasgow Salary **** to **** We...   \n",
       "2  Mathematical Modeller / Simulation Analyst / O...   \n",
       "\n",
       "                         LocationRaw LocationNormalized ContractType  \\\n",
       "0            Dorking, Surrey, Surrey            Dorking                \n",
       "1        Glasgow, Scotland, Scotland            Glasgow                \n",
       "2  Hampshire, South East, South East          Hampshire                \n",
       "\n",
       "  ContractTime                       Company          Category  \\\n",
       "0    permanent  Gregory Martin International  Engineering Jobs   \n",
       "1    permanent  Gregory Martin International  Engineering Jobs   \n",
       "2    permanent  Gregory Martin International  Engineering Jobs   \n",
       "\n",
       "                    SalaryRaw  SalaryNormalized        SourceName  HighSalary  \n",
       "0  20000 - 30000/annum 20-30K             25000  cv-library.co.uk           0  \n",
       "1  25000 - 35000/annum 25-35K             30000  cv-library.co.uk           0  \n",
       "2  20000 - 40000/annum 20-40K             30000  cv-library.co.uk           0  "
      ]
     },
     "execution_count": 17,
     "metadata": {},
     "output_type": "execute_result"
    }
   ],
   "source": [
    "process_data = data.copy()\n",
    "\n",
    "process_data['HighSalary'] = (process_data['SalaryNormalized'] >= Q3).astype(int)\n",
    "\n",
    "process_data.head(3)"
   ]
  },
  {
   "cell_type": "markdown",
   "metadata": {},
   "source": [
    "### Feature selection"
   ]
  },
  {
   "cell_type": "code",
   "execution_count": 18,
   "metadata": {},
   "outputs": [],
   "source": [
    "process_data['Text'] = process_data['Title'] + ' ' + process_data['FullDescription'] + ' ' + \\\n",
    "    process_data['LocationNormalized'] + ' ' + process_data['ContractType'] + ' ' + \\\n",
    "    process_data['ContractTime'] + ' ' + process_data['Category'] + ' ' + process_data['SourceName'] "
   ]
  },
  {
   "cell_type": "markdown",
   "metadata": {},
   "source": [
    "### Preprocess and Lemmatization"
   ]
  },
  {
   "cell_type": "code",
   "execution_count": 19,
   "metadata": {},
   "outputs": [],
   "source": [
    "clean_data = process_data.copy()\n",
    "\n",
    "#nltk.download('stopwords')\n",
    "#nltk.download('punkt')\n",
    "#nltk.download('wordnet')\n",
    "\n",
    "stop_words_set = set(stopwords.words('english'))\n",
    "lemmatizer = WordNetLemmatizer()\n",
    "\n",
    "def pre_process(text, apply_lemmatization=False):\n",
    "    # lowercase\n",
    "    text=str(text).lower()\n",
    "\n",
    "    # remove numbers followed by dot (like, \"1.\", \"2.\", etc)\n",
    "    text=re.sub(r'[^\\s]*[0-9]+[^\\s]*', \"\", text)\n",
    "    \n",
    "    #remove tags\n",
    "    text=re.sub(r\"&lt;/?.*?&gt;\",\" &lt;&gt; \",text)\n",
    "\n",
    "    #remove urls\n",
    "    text=re.sub(r'[^\\s]*(\\.com|www\\.|\\.co\\.uk)[^\\s]*', \"\", text)\n",
    "\n",
    "    #remove stars\n",
    "    text=re.sub(r'[^\\s]*[\\*]+[^\\s]*', \"\", text)\n",
    "    \n",
    "    # correct some misspellings and/or replace some text with others that might be easier to handle\n",
    "    text=text.replace('do not', \"don't\")\n",
    "    \n",
    "    # remove special characters except spaces, apostrophes and dots\n",
    "    text=re.sub(r\"[^a-zA-Z0-9.']+\", ' ', text)\n",
    "\n",
    "    # remove typical non-informative text\n",
    "    non_informative = ['work', 'experience', 'role', 'working', 'within', 'job', 'position', 'jobs', 'company']\n",
    "    text=' '.join(word for word in text.split() if word not in non_informative)\n",
    "    \n",
    "    # lemmatization and remove stop words\n",
    "    if apply_lemmatization:\n",
    "        words = text.split()\n",
    "        lemmatized_words = [lemmatizer.lemmatize(word) for word in words if word not in stop_words_set]\n",
    "        text = ' '.join(lemmatized_words)\n",
    "    else:\n",
    "        text = ' '.join([word for word in text.split() if word not in stop_words_set])\n",
    "    \n",
    "    return text"
   ]
  },
  {
   "cell_type": "markdown",
   "metadata": {},
   "source": [
    "### Two version of clean data"
   ]
  },
  {
   "cell_type": "code",
   "execution_count": 20,
   "metadata": {},
   "outputs": [],
   "source": [
    "clean_data['Text_process'] = clean_data['Text'].apply(pre_process)\n",
    "clean_data['Text_process_Lem'] = clean_data['Text'].apply(lambda x: pre_process(x, apply_lemmatization=True))"
   ]
  },
  {
   "cell_type": "code",
   "execution_count": 21,
   "metadata": {},
   "outputs": [],
   "source": [
    "X_no_lem = clean_data['Text_process']\n",
    "X_lem = clean_data['Text_process_Lem']\n",
    "y = clean_data['HighSalary']"
   ]
  },
  {
   "cell_type": "markdown",
   "metadata": {},
   "source": [
    "### Train Test Split"
   ]
  },
  {
   "cell_type": "code",
   "execution_count": 22,
   "metadata": {},
   "outputs": [],
   "source": [
    "X_no_lem_train, X_no_lem_test, y_train, y_test = train_test_split(X_no_lem, y, test_size=0.2, random_state=42)\n",
    "X_lem_train, X_lem_test, y_train, y_test = train_test_split(X_lem, y, test_size=0.2, random_state=42)"
   ]
  },
  {
   "cell_type": "markdown",
   "metadata": {},
   "source": [
    "## Model"
   ]
  },
  {
   "cell_type": "markdown",
   "metadata": {},
   "source": [
    "### Count Vectorizer"
   ]
  },
  {
   "cell_type": "code",
   "execution_count": 26,
   "metadata": {},
   "outputs": [
    {
     "name": "stdout",
     "output_type": "stream",
     "text": [
      "Accuracy (No Lemmatization): 0.7894145524369817\n",
      "Classicication Report (No Lemmatization):\n",
      "              precision    recall  f1-score   support\n",
      "\n",
      "           0       0.92      0.78      0.85     36453\n",
      "           1       0.56      0.81      0.66     12501\n",
      "\n",
      "    accuracy                           0.79     48954\n",
      "   macro avg       0.74      0.80      0.76     48954\n",
      "weighted avg       0.83      0.79      0.80     48954\n",
      "\n",
      "Accuracy (Lemmatization): 0.788107202680067\n",
      "Classicication Report (Lemmatization):\n",
      "              precision    recall  f1-score   support\n",
      "\n",
      "           0       0.92      0.78      0.85     36453\n",
      "           1       0.56      0.81      0.66     12501\n",
      "\n",
      "    accuracy                           0.79     48954\n",
      "   macro avg       0.74      0.80      0.75     48954\n",
      "weighted avg       0.83      0.79      0.80     48954\n",
      "\n"
     ]
    }
   ],
   "source": [
    "count_vect = CountVectorizer(stop_words='english')\n",
    "\n",
    "X_no_lem_train_count = count_vect.fit_transform(X_no_lem_train)\n",
    "X_no_lem_test_count = count_vect.transform(X_no_lem_test)\n",
    "\n",
    "X_lem_train_count = count_vect.fit_transform(X_lem_train)\n",
    "X_lem_test_count = count_vect.transform(X_lem_test)\n",
    "\n",
    "# Naive Bayes Model for No Lemmatization\n",
    "nb_no_lem_count = MultinomialNB()\n",
    "nb_no_lem_count.fit(X_no_lem_train_count, y_train)\n",
    "\n",
    "# Naive Bayes Model for Lemmatization\n",
    "nb_lem_count = MultinomialNB()\n",
    "nb_lem_count.fit(X_lem_train_count, y_train)\n",
    "\n",
    "# Prediction and Evaluation\n",
    "y_pred_no_lem_count = nb_no_lem_count.predict(X_no_lem_test_count)\n",
    "y_pred_lem_count = nb_lem_count.predict(X_lem_test_count)\n",
    "print(\"Accuracy (No Lemmatization):\", accuracy_score(y_test, y_pred_no_lem_count))\n",
    "print(\"Classicication Report (No Lemmatization):\")\n",
    "print(classification_report(y_test, y_pred_no_lem_count))\n",
    "print(\"Accuracy (Lemmatization):\", accuracy_score(y_test, y_pred_lem_count))\n",
    "print(\"Classicication Report (Lemmatization):\")\n",
    "print(classification_report(y_test, y_pred_lem_count))"
   ]
  },
  {
   "cell_type": "markdown",
   "metadata": {},
   "source": [
    "### TFIDF Vectorizer"
   ]
  },
  {
   "cell_type": "code",
   "execution_count": 27,
   "metadata": {},
   "outputs": [
    {
     "name": "stdout",
     "output_type": "stream",
     "text": [
      "Accuracy (No Lemmatization): 0.8231400906973894\n",
      "Classicication Report (No Lemmatization):\n",
      "              precision    recall  f1-score   support\n",
      "\n",
      "           0       0.84      0.95      0.89     36453\n",
      "           1       0.76      0.45      0.57     12501\n",
      "\n",
      "    accuracy                           0.82     48954\n",
      "   macro avg       0.80      0.70      0.73     48954\n",
      "weighted avg       0.82      0.82      0.81     48954\n",
      "\n",
      "Accuracy (Lemmatization): 0.8196674429055848\n",
      "Classicication Report (Lemmatization):\n",
      "              precision    recall  f1-score   support\n",
      "\n",
      "           0       0.83      0.95      0.89     36453\n",
      "           1       0.76      0.43      0.55     12501\n",
      "\n",
      "    accuracy                           0.82     48954\n",
      "   macro avg       0.79      0.69      0.72     48954\n",
      "weighted avg       0.81      0.82      0.80     48954\n",
      "\n"
     ]
    }
   ],
   "source": [
    "tfidf_vect = TfidfVectorizer(stop_words='english')\n",
    "\n",
    "X_no_lem_train_tdidf = tfidf_vect.fit_transform(X_no_lem_train)\n",
    "X_no_lem_test_tdidf = tfidf_vect.transform(X_no_lem_test)\n",
    "\n",
    "X_lem_train_tdidf = tfidf_vect.fit_transform(X_lem_train)\n",
    "X_lem_test_tdidf = tfidf_vect.transform(X_lem_test)\n",
    "\n",
    "# Naive Bayes Model for No Lemmatization\n",
    "nb_no_lem_tdidf = MultinomialNB()\n",
    "nb_no_lem_tdidf.fit(X_no_lem_train_tdidf, y_train)\n",
    "\n",
    "# Naive Bayes Model for Lemmatization\n",
    "nb_lem_tdidf = MultinomialNB()\n",
    "nb_lem_tdidf.fit(X_lem_train_tdidf, y_train)\n",
    "\n",
    "# Prediction and Evaluation\n",
    "y_pred_no_lem_tdidf = nb_no_lem_tdidf.predict(X_no_lem_test_tdidf)\n",
    "y_pred_lem_tdidf = nb_lem_tdidf.predict(X_lem_test_tdidf)\n",
    "print(\"Accuracy (No Lemmatization):\", accuracy_score(y_test, y_pred_no_lem_tdidf))\n",
    "print(\"Classicication Report (No Lemmatization):\")\n",
    "print(classification_report(y_test, y_pred_no_lem_tdidf))\n",
    "print(\"Accuracy (Lemmatization):\", accuracy_score(y_test, y_pred_lem_tdidf))\n",
    "print(\"Classicication Report (Lemmatization):\")\n",
    "print(classification_report(y_test, y_pred_lem_tdidf))"
   ]
  },
  {
   "cell_type": "markdown",
   "metadata": {},
   "source": [
    "**By comparing the results, I decide to continue with the no lemmatization data.**\n",
    "\n",
    "For count vectorizer, the no lemmatization version performs better by having higher recall and f1 score.\n",
    "\n",
    "For tfidf vectorizer, the no lemmatization version performs better by having higher recall and f1 score.\n",
    "\n",
    "I will decide on the vectorizer in the tuning phase."
   ]
  },
  {
   "cell_type": "markdown",
   "metadata": {},
   "source": [
    "### Hyperparameter Tuning"
   ]
  },
  {
   "cell_type": "markdown",
   "metadata": {},
   "source": [
    "In this step, I will find out the best n_gram and the best vectorizer for this dataset."
   ]
  },
  {
   "cell_type": "code",
   "execution_count": 28,
   "metadata": {},
   "outputs": [
    {
     "name": "stdout",
     "output_type": "stream",
     "text": [
      "Fitting 5 folds for each of 8 candidates, totalling 40 fits\n",
      "[CV] END vect=CountVectorizer(stop_words='english'), vect__ngram_range=(1, 1); total time= 1.1min\n",
      "[CV] END vect=CountVectorizer(stop_words='english'), vect__ngram_range=(1, 1); total time= 1.1min\n",
      "[CV] END vect=CountVectorizer(stop_words='english'), vect__ngram_range=(1, 1); total time= 1.1min\n",
      "[CV] END vect=CountVectorizer(stop_words='english'), vect__ngram_range=(1, 1); total time= 1.1min\n",
      "[CV] END vect=CountVectorizer(stop_words='english'), vect__ngram_range=(1, 1); total time= 1.2min\n",
      "[CV] END vect=CountVectorizer(stop_words='english'), vect__ngram_range=(1, 2); total time=49.7min\n",
      "[CV] END vect=CountVectorizer(stop_words='english'), vect__ngram_range=(2, 2); total time=52.3min\n",
      "[CV] END vect=CountVectorizer(stop_words='english'), vect__ngram_range=(2, 2); total time=51.8min\n",
      "[CV] END vect=CountVectorizer(stop_words='english'), vect__ngram_range=(2, 2); total time=54.0min\n",
      "[CV] END vect=CountVectorizer(stop_words='english'), vect__ngram_range=(1, 2); total time=62.3min\n",
      "[CV] END vect=CountVectorizer(stop_words='english'), vect__ngram_range=(1, 2); total time=65.6min\n",
      "[CV] END vect=CountVectorizer(stop_words='english'), vect__ngram_range=(1, 2); total time=150.2min\n",
      "[CV] END vect=CountVectorizer(stop_words='english'), vect__ngram_range=(1, 2); total time=153.3min\n",
      "[CV] END vect=TfidfVectorizer(stop_words='english'), vect__ngram_range=(1, 1); total time= 1.3min\n",
      "[CV] END vect=TfidfVectorizer(stop_words='english'), vect__ngram_range=(1, 1); total time=47.9min\n",
      "[CV] END vect=TfidfVectorizer(stop_words='english'), vect__ngram_range=(1, 1); total time=244.1min\n",
      "[CV] END vect=TfidfVectorizer(stop_words='english'), vect__ngram_range=(1, 1); total time=243.9min\n",
      "[CV] END vect=TfidfVectorizer(stop_words='english'), vect__ngram_range=(1, 1); total time=122.2min\n",
      "[CV] END vect=CountVectorizer(stop_words='english'), vect__ngram_range=(2, 2); total time=1297.2min\n",
      "[CV] END vect=CountVectorizer(stop_words='english'), vect__ngram_range=(2, 2); total time=1317.0min\n",
      "[CV] END vect=TfidfVectorizer(stop_words='english'), vect__ngram_range=(1, 2); total time=168.5min\n",
      "[CV] END vect=TfidfVectorizer(stop_words='english'), vect__ngram_range=(1, 2); total time=100.5min\n",
      "[CV] END vect=TfidfVectorizer(stop_words='english'), vect__ngram_range=(1, 2); total time=100.6min\n",
      "[CV] END vect=TfidfVectorizer(stop_words='english'), vect__ngram_range=(2, 2); total time= 4.2min\n",
      "[CV] END vect=TfidfVectorizer(stop_words='english'), vect__ngram_range=(2, 2); total time= 2.5min\n",
      "[CV] END vect=TfidfVectorizer(stop_words='english'), vect__ngram_range=(1, 2); total time=31.5min\n",
      "[CV] END vect=TfidfVectorizer(stop_words='english'), vect__ngram_range=(1, 2); total time=58.8min\n",
      "[CV] END vect=TfidfVectorizer(stop_words='english'), vect__ngram_range=(2, 2); total time= 3.7min\n",
      "[CV] END vect=TfidfVectorizer(stop_words='english'), vect__ngram_range=(2, 2); total time= 4.2min\n",
      "[CV] END vect=TfidfVectorizer(stop_words='english'), vect__ngram_range=(2, 2); total time= 7.3min\n"
     ]
    }
   ],
   "source": [
    "pipeline = Pipeline([\n",
    "    ('vect', CountVectorizer(stop_words='english')),\n",
    "    ('clf', MultinomialNB()),\n",
    "])\n",
    "\n",
    "parameters = {\n",
    "    'vect__ngram_range': [(1, 1), (1, 2), (2, 2), (1, 3)],  # unigrams, bigrams, uni+bi, uni+bi+tri\n",
    "    'vect': [CountVectorizer(stop_words='english'), TfidfVectorizer(stop_words='english')],  # Testing both vectorizers\n",
    "}\n",
    "\n",
    "grid_search = GridSearchCV(pipeline, parameters, cv=5, n_jobs=-1, verbose=2)\n",
    "\n",
    "# Assuming X_no_lem_train and y_train are your training data and labels\n",
    "grid_search.fit(X_no_lem_train, y_train)\n",
    "\n",
    "print(\"Best Score: %s\" % grid_search.best_score_)\n",
    "print(\"Best Parameters set:\")\n",
    "best_parameters = grid_search.best_estimator_.get_params()\n",
    "for param_name in sorted(parameters.keys()):\n",
    "    print(\"\\t%s: %r\" % (param_name, best_parameters[param_name]))"
   ]
  },
  {
   "cell_type": "code",
   "execution_count": 1,
   "metadata": {},
   "outputs": [
    {
     "ename": "NameError",
     "evalue": "name 'Pipeline' is not defined",
     "output_type": "error",
     "traceback": [
      "\u001b[0;31m---------------------------------------------------------------------------\u001b[0m",
      "\u001b[0;31mNameError\u001b[0m                                 Traceback (most recent call last)",
      "Cell \u001b[0;32mIn[1], line 1\u001b[0m\n\u001b[0;32m----> 1\u001b[0m pipeline \u001b[38;5;241m=\u001b[39m \u001b[43mPipeline\u001b[49m([\n\u001b[1;32m      2\u001b[0m     (\u001b[38;5;124m'\u001b[39m\u001b[38;5;124mvect\u001b[39m\u001b[38;5;124m'\u001b[39m, CountVectorizer(stop_words\u001b[38;5;241m=\u001b[39m\u001b[38;5;124m'\u001b[39m\u001b[38;5;124menglish\u001b[39m\u001b[38;5;124m'\u001b[39m, ngram_range\u001b[38;5;241m=\u001b[39m(\u001b[38;5;241m1\u001b[39m, \u001b[38;5;241m1\u001b[39m))),\n\u001b[1;32m      3\u001b[0m     (\u001b[38;5;124m'\u001b[39m\u001b[38;5;124mclf\u001b[39m\u001b[38;5;124m'\u001b[39m, MultinomialNB()),\n\u001b[1;32m      4\u001b[0m ])\n\u001b[1;32m      6\u001b[0m pipeline\u001b[38;5;241m.\u001b[39mfit(X_no_lem_train, y_train)\n\u001b[1;32m      7\u001b[0m y_pred \u001b[38;5;241m=\u001b[39m pipeline\u001b[38;5;241m.\u001b[39mpredict(X_no_lem_test)\n",
      "\u001b[0;31mNameError\u001b[0m: name 'Pipeline' is not defined"
     ]
    }
   ],
   "source": [
    "pipeline = Pipeline([\n",
    "    ('vect', CountVectorizer(stop_words='english', ngram_range=(1, 1))),\n",
    "    ('clf', MultinomialNB()),\n",
    "])\n",
    "\n",
    "pipeline.fit(X_no_lem_train, y_train)\n",
    "y_pred = pipeline.predict(X_no_lem_test)\n",
    "print(\"Accuracy:\", accuracy_score(y_test, y_pred))\n",
    "print(\"Classicication Report:\")\n",
    "print(classification_report(y_test, y_pred))"
   ]
  },
  {
   "cell_type": "markdown",
   "metadata": {},
   "source": [
    "# Final Model Accuracy: 0.794"
   ]
  },
  {
   "cell_type": "markdown",
   "metadata": {},
   "source": [
    "# Final Model Confusion Matrix"
   ]
  },
  {
   "cell_type": "code",
   "execution_count": 20,
   "metadata": {},
   "outputs": [
    {
     "data": {
      "image/png": "[encoded data removed]",
      "text/plain": [
       "<Figure size 640x480 with 2 Axes>"
      ]
     },
     "metadata": {},
     "output_type": "display_data"
    }
   ],
   "source": [
    "palette = ['#E8C872', '#FFF3CF', '#C9D7DD', '#637A9F']\n",
    "cm = confusion_matrix(y_test, y_pred)\n",
    "sns.heatmap(cm, annot=True, fmt=\"d\", cmap=sns.color_palette(palette, as_cmap=True), \n",
    "            xticklabels=['Low Salary', 'High Salary'], yticklabels=['Low Salary', 'High Salary'])\n",
    "\n",
    "plt.ylabel('Actual')\n",
    "plt.xlabel('Predicted')\n",
    "plt.title('Naive Bayes Confusion Matrix')\n",
    "plt.show()"
   ]
  },
  {
   "cell_type": "code",
   "execution_count": 21,
   "metadata": {},
   "outputs": [
    {
     "name": "stdout",
     "output_type": "stream",
     "text": [
      "Top 10 words for class 0 (low salary): ['service', 'management', 'support', 'client', 'permanent', 'business', 'skills', 'manager', 'sales', 'team']\n",
      "Top 10 words for class 1 (high salary): ['support', 'project', 'permanent', 'client', 'skills', 'development', 'management', 'manager', 'team', 'business']\n",
      "Words within top 10 words only for class 0 (low salary): ['service', 'sales']\n",
      "Words within top 10 words only for class 1 (high salary): ['project', 'development']\n"
     ]
    }
   ],
   "source": [
    "# Access the vectorizer and classifier from the pipeline\n",
    "vectorizer = pipeline.named_steps['vect']\n",
    "classifier = pipeline.named_steps['clf']\n",
    "\n",
    "# Get feature names\n",
    "feature_names = vectorizer.get_feature_names_out()\n",
    "\n",
    "# Get log probability of features given a class\n",
    "low_salary_prob_sorted = classifier.feature_log_prob_[0, :].argsort()\n",
    "high_salary_prob_sorted = classifier.feature_log_prob_[1, :].argsort()\n",
    "\n",
    "# Top 10 words for each class\n",
    "top10_low = [feature_names[i] for i in low_salary_prob_sorted[-10:]]\n",
    "top10_high = [feature_names[i] for i in high_salary_prob_sorted[-10:]]\n",
    "\n",
    "print(\"Top 10 words for class 0 (low salary):\", top10_low)\n",
    "print(\"Top 10 words for class 1 (high salary):\", top10_high)\n",
    "\n",
    "only_low = [word for word in top10_low if word not in top10_high]\n",
    "only_high = [word for word in top10_high if word not in top10_low]\n",
    "\n",
    "print(\"Words within top 10 words only for class 0 (low salary):\", only_low)\n",
    "print(\"Words within top 10 words only for class 1 (high salary):\", only_high)"
   ]
  },
  {
   "cell_type": "markdown",
   "metadata": {},
   "source": [
    "There are many similar words within the top 10 words for both salary group, such as **_management_**, **_support_**, **_client_**, **_business_**, **_skills_**, **_teams_**.\n",
    "\n",
    "However, when filtering out the unique words. We can see that the most frequent words among the top 10 words for lower salary group is **_service_** and **_sales_**. The most frequent words among the top 10 words for high salary group is **_project_** and **_development_**.\n",
    "\n",
    "Therefore, we can assume that within this dataset, the lower salary jobs are more related to service work while the higher salary jobs are more related to development work. This is valid because development work might require more education and experiences than the service work."
   ]
  },
  {
   "cell_type": "markdown",
   "metadata": {},
   "source": [
    "# Further Improve Accuracy"
   ]
  },
  {
   "cell_type": "markdown",
   "metadata": {},
   "source": [
    "There are several ways to improve accuracy\n",
    "\n",
    "**In the preprocessing phase**:\n",
    " - _Data Cleaning_\n",
    "    - Null value imputation (done)\n",
    "    - Text concatenation\n",
    "        - In the current version, I concatenated all the text columns into one text column. **However, we can further analyze which are the necessary and informative columns and only concatenate those columns for model training**.\n",
    "    - Basic text cleaning such as lowercasing, special character removal (done)\n",
    "    - Stop word removal (done)\n",
    "    - Non-informative text removal\n",
    "        - Certain type of datasets always have their own set of non-informative words. For example, 'work', 'experience' and 'job' are some non-informative words for this dataset. I manually recognized several of these words and removed them. **However, if these dataset-specific non-informative words can be identified better, the accuracy of the model will increase**.\n",
    "- _Features Engineering_\n",
    "    - Adding sentimental analysis as a feature is usually helpful for text analytics project. However, it might have less impact on accuracy for this particular dataset.\n",
    "            \n",
    "- _Data Lemmatization_ \n",
    "    - I have tried lemmatization after the current data cleaning method and it does not improve the accuracy. **However, with different data cleaning method, lemmatization might still be helpful and bring up model accuracy**.\n",
    "    \n",
    "**In the tuning phase**:\n",
    "- _Grid Search_\n",
    "    - n gram\n",
    "        - I have tried using different n gram combinations (unigram, bigram, uni+bi, uni+bi+tri) The result shows that unigram gives the best result. **With different data preprocessing steps, this step can improve accuracy**.\n",
    "    - vectorizer\n",
    "        - I have tried using count vectorizer and TFIDF vectorizer. However, as count vectorizer suit the Naive Bayes better than the other one, grid search on these two vectorizer did not improve the accuracy."
   ]
  },
  {
   "cell_type": "markdown",
   "metadata": {},
   "source": []
  }
 ],
 "metadata": {
  "kernelspec": {
   "display_name": "Python 3",
   "language": "python",
   "name": "python3"
  },
  "language_info": {
   "codemirror_mode": {
    "name": "ipython",
    "version": 3
   },
   "file_extension": ".py",
   "mimetype": "text/x-python",
   "name": "python",
   "nbconvert_exporter": "python",
   "pygments_lexer": "ipython3",
   "version": "3.12.1"
  }
 },
 "nbformat": 4,
 "nbformat_minor": 2
}
