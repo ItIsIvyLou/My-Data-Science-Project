{
 "cells": [
  {
   "cell_type": "code",
   "execution_count": 1,
   "metadata": {},
   "outputs": [],
   "source": [
    "import re\n",
    "import torch\n",
    "import torch.nn as nn\n",
    "import torch.optim as optim\n",
    "from torch.utils.data import Dataset, DataLoader"
   ]
  },
  {
   "cell_type": "markdown",
   "metadata": {},
   "source": [
    "# Data Info\n"
   ]
  },
  {
   "cell_type": "code",
   "execution_count": 2,
   "metadata": {},
   "outputs": [],
   "source": [
    "# Custom Dataset for Macbeth text\n",
    "class TextDataset(Dataset):\n",
    "    def __init__(self, text, seq_len, char2idx):\n",
    "        self.seq_len = seq_len\n",
    "        self.char2idx = char2idx\n",
    "\n",
    "        # Encode entire text to integers\n",
    "        encoded_text = [self.char2idx[c] for c in text]\n",
    "        self.data = [encoded_text[i:i + seq_len + 1] for i in range(len(encoded_text) - seq_len)]\n",
    "\n",
    "    def __len__(self):\n",
    "        return len(self.data)\n",
    "\n",
    "    def __getitem__(self, idx):\n",
    "        sequence = self.data[idx]\n",
    "        return torch.tensor(sequence[:-1]), torch.tensor(sequence[1:])"
   ]
  },
  {
   "cell_type": "code",
   "execution_count": 3,
   "metadata": {},
   "outputs": [],
   "source": [
    "# Load and preprocess the text data\n",
    "with open('macbeth.txt', 'r', encoding='utf-8') as file:\n",
    "    raw_text = file.read()\n",
    "\n",
    "# Basic cleanup: remove license information, non-dialogue metadata, etc.\n",
    "clean_text = re.sub(r\"<<.*?>>\", \"\", raw_text)  # Remove Project Gutenberg tags\n",
    "clean_text = re.sub(r\"\\s+\", \" \", clean_text)  # Remove excessive whitespace\n",
    "clean_text = clean_text.lower()  # Convert to lowercase"
   ]
  },
  {
   "cell_type": "code",
   "execution_count": 4,
   "metadata": {},
   "outputs": [],
   "source": [
    "# Create a character set and mapping\n",
    "chars = sorted(set(clean_text))\n",
    "char2idx = {c: i for i, c in enumerate(chars)}\n",
    "idx2char = {i: c for i, c in enumerate(chars)}\n",
    "\n",
    "# Hyperparameters\n",
    "seq_len = 100\n",
    "batch_size = 64\n",
    "hidden_dim = 256\n",
    "num_layers = 2\n",
    "lr = 0.001\n",
    "num_epochs = 10\n",
    "\n",
    "# Create the dataset and dataloader\n",
    "dataset = TextDataset(clean_text, seq_len, char2idx)\n",
    "dataloader = DataLoader(dataset, batch_size=batch_size, shuffle=True)"
   ]
  },
  {
   "cell_type": "code",
   "execution_count": 5,
   "metadata": {},
   "outputs": [],
   "source": [
    "# Define the RNN model using LSTM\n",
    "class ShakespeareRNN(nn.Module):\n",
    "    def __init__(self, vocab_size, hidden_dim, num_layers):\n",
    "        super(ShakespeareRNN, self).__init__()\n",
    "        self.hidden_dim = hidden_dim\n",
    "        self.num_layers = num_layers\n",
    "        self.embedding = nn.Embedding(vocab_size, hidden_dim)\n",
    "        self.lstm = nn.LSTM(hidden_dim, hidden_dim, num_layers, batch_first=True)\n",
    "        self.fc = nn.Linear(hidden_dim, vocab_size)\n",
    "\n",
    "    def forward(self, x, hidden):\n",
    "        x = self.embedding(x)\n",
    "        out, hidden = self.lstm(x, hidden)\n",
    "        out = self.fc(out)\n",
    "        return out, hidden\n",
    "\n",
    "    def init_hidden(self, batch_size):\n",
    "        return (torch.zeros(self.num_layers, batch_size, self.hidden_dim),\n",
    "                torch.zeros(self.num_layers, batch_size, self.hidden_dim))\n"
   ]
  },
  {
   "cell_type": "code",
   "execution_count": 6,
   "metadata": {},
   "outputs": [],
   "source": [
    "# Initialize the model, loss function, and optimizer\n",
    "vocab_size = len(chars)\n",
    "model = ShakespeareRNN(vocab_size, hidden_dim, num_layers)\n",
    "criterion = nn.CrossEntropyLoss()\n",
    "optimizer = optim.Adam(model.parameters(), lr=lr)\n"
   ]
  },
  {
   "cell_type": "code",
   "execution_count": 8,
   "metadata": {},
   "outputs": [
    {
     "name": "stdout",
     "output_type": "stream",
     "text": [
      "Epoch [1/10], Loss: 0.4895\n",
      "Epoch [2/10], Loss: 0.2083\n",
      "Epoch [3/10], Loss: 0.1684\n",
      "Epoch [4/10], Loss: 0.1542\n",
      "Epoch [5/10], Loss: 0.1457\n",
      "Epoch [6/10], Loss: 0.1399\n",
      "Epoch [7/10], Loss: 0.1356\n",
      "Epoch [8/10], Loss: 0.1321\n",
      "Epoch [9/10], Loss: 0.1290\n",
      "Epoch [10/10], Loss: 0.1268\n"
     ]
    }
   ],
   "source": [
    "# Training loop\n",
    "model.train()\n",
    "for epoch in range(num_epochs):\n",
    "    total_loss = 0\n",
    "    \n",
    "    for input_seq, target_seq in dataloader:\n",
    "        batch_size, seq_len = input_seq.size()  # Get the actual batch size\n",
    "\n",
    "        # Initialize hidden state with the current batch size\n",
    "        hidden = model.init_hidden(batch_size)\n",
    "\n",
    "        optimizer.zero_grad()\n",
    "        output, hidden = model(input_seq, hidden)\n",
    "        \n",
    "        # Since we reinitialize the hidden state at the start of each batch,\n",
    "        # we do not need to detach the hidden states.\n",
    "        loss = criterion(output.view(-1, vocab_size), target_seq.view(-1))\n",
    "        loss.backward()\n",
    "        optimizer.step()\n",
    "\n",
    "        total_loss += loss.item()\n",
    "\n",
    "    print(f\"Epoch [{epoch + 1}/{num_epochs}], Loss: {total_loss / len(dataloader):.4f}\")\n"
   ]
  },
  {
   "cell_type": "code",
   "execution_count": 10,
   "metadata": {},
   "outputs": [
    {
     "name": "stdout",
     "output_type": "stream",
     "text": [
      "macbeth: is this a dagger which i see before me, the handle toward my hand? come, let me clutch thee. i have thee not, and yet i see thee still. art thou not, fatal vision, sensible to fear. leave all the rest to me. exeunt. scene vi. before macbeth's castle. hautboys and torches. enter a sewer and divers servants with dishes and service, who pass over the stage. then enter macbeth. macbeth. if it were done when 'tis done, then 'twere well it were a death, with two murtherers. now go to the door, and stay there till we call. exit attendant. w\n"
     ]
    }
   ],
   "source": [
    "# Generate new text function\n",
    "def generate_text(model, start_text, length, char2idx, idx2char):\n",
    "    model.eval()\n",
    "    with torch.no_grad():\n",
    "        input_ids = torch.tensor([char2idx[c] for c in start_text]).unsqueeze(0)\n",
    "        hidden = model.init_hidden(1)\n",
    "\n",
    "        generated = start_text\n",
    "\n",
    "        for _ in range(length):\n",
    "            output, hidden = model(input_ids, hidden)\n",
    "            pred_token = output[0, -1].argmax().item()\n",
    "\n",
    "            generated += idx2char[pred_token]\n",
    "            input_ids = torch.cat([input_ids, torch.tensor([[pred_token]])], dim=1)\n",
    "\n",
    "        return generated\n",
    "\n",
    "# Generate text based on the trained model\n",
    "start_text = \"macbeth: is this a dagger which i see before me,\"\n",
    "generated_text = generate_text(model, start_text, 500, char2idx, idx2char)\n",
    "print(generated_text)"
   ]
  }
 ],
 "metadata": {
  "kernelspec": {
   "display_name": "Python 3",
   "language": "python",
   "name": "python3"
  },
  "language_info": {
   "codemirror_mode": {
    "name": "ipython",
    "version": 3
   },
   "file_extension": ".py",
   "mimetype": "text/x-python",
   "name": "python",
   "nbconvert_exporter": "python",
   "pygments_lexer": "ipython3",
   "version": "3.12.1"
  }
 },
 "nbformat": 4,
 "nbformat_minor": 2
}
